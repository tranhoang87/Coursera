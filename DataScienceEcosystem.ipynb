{
 "cells": [
  {
   "cell_type": "markdown",
   "id": "9ae8b182-7eb1-443a-aee3-e2f96f7928eb",
   "metadata": {},
   "source": [
    "Data Science Tools and Ecosystem"
   ]
  },
  {
   "cell_type": "markdown",
   "id": "b2d6a778-3778-4840-ae7c-28d139b2baec",
   "metadata": {},
   "source": [
    "In this notebook, Data Science Tools and Ecosystem are summarized.\n"
   ]
  },
  {
   "cell_type": "markdown",
   "id": "96ea3412-086b-4d55-8685-48e422256aa6",
   "metadata": {
    "tags": []
   },
   "source": [
    "Objectives:\n",
    "- the popular languages that Data Scientists\n",
    "- the commonly used libraries used by Data Scientists\n",
    "- Data Science Tools\n",
    "\n",
    "Author: Hoang Tran\n"
   ]
  },
  {
   "cell_type": "markdown",
   "id": "77579522-965a-480b-ab5c-3b78d7295481",
   "metadata": {},
   "source": [
    "Some of the popular languages that Data Scientists use are:\n",
    "1. R\n",
    "2. Python\n",
    "3. SQL"
   ]
  },
  {
   "cell_type": "markdown",
   "id": "f59312e3-a5c9-44d6-9159-732a666fec09",
   "metadata": {},
   "source": [
    "Some of the commonly used libraries used by Data Scientists include:\n",
    "1. Panda\n",
    "2. ggplot\n",
    "3. scikit-learn"
   ]
  },
  {
   "cell_type": "markdown",
   "id": "2bda4bc4-deda-4c3d-bc56-01d1614242b0",
   "metadata": {},
   "source": [
    "Data Science Tools\n",
    "1. Rstudio\n",
    "2. Jupiter\n",
    "3. Anaconda"
   ]
  },
  {
   "cell_type": "markdown",
   "id": "4699bd0a-7530-44d8-8e33-db55cb4d9fac",
   "metadata": {},
   "source": [
    "Below are a few examples of evaluating arithmetic expressions in Python"
   ]
  },
  {
   "cell_type": "code",
   "execution_count": 1,
   "id": "6107561c-3b43-4946-a211-aa57103b4bf0",
   "metadata": {
    "tags": []
   },
   "outputs": [
    {
     "data": {
      "text/plain": [
       "17"
      ]
     },
     "execution_count": 1,
     "metadata": {},
     "output_type": "execute_result"
    }
   ],
   "source": [
    "(3*4)+5\n",
    "#This a simple arithmetic expression to mutiply then add integers"
   ]
  },
  {
   "cell_type": "code",
   "execution_count": 2,
   "id": "212d3658-a40f-47f2-b3a5-4d9dbd9031ab",
   "metadata": {
    "tags": []
   },
   "outputs": [
    {
     "data": {
      "text/plain": [
       "3.3333333333333335"
      ]
     },
     "execution_count": 2,
     "metadata": {},
     "output_type": "execute_result"
    }
   ],
   "source": [
    "200/60\n",
    "#This will convert 200 minutes to hours by diving by 60"
   ]
  },
  {
   "cell_type": "code",
   "execution_count": null,
   "id": "687275b7-114d-471b-aee9-0895ce170c3d",
   "metadata": {},
   "outputs": [],
   "source": []
  }
 ],
 "metadata": {
  "kernelspec": {
   "display_name": "Python",
   "language": "python",
   "name": "conda-env-python-py"
  },
  "language_info": {
   "codemirror_mode": {
    "name": "ipython",
    "version": 3
   },
   "file_extension": ".py",
   "mimetype": "text/x-python",
   "name": "python",
   "nbconvert_exporter": "python",
   "pygments_lexer": "ipython3",
   "version": "3.7.12"
  }
 },
 "nbformat": 4,
 "nbformat_minor": 5
}
